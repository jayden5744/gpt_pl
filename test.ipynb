{
 "cells": [
  {
   "cell_type": "code",
   "execution_count": 1,
   "metadata": {},
   "outputs": [],
   "source": [
    "import os\n",
    "import pandas as pd"
   ]
  },
  {
   "cell_type": "code",
   "execution_count": 2,
   "metadata": {},
   "outputs": [
    {
     "data": {
      "text/plain": [
       "311237"
      ]
     },
     "execution_count": 2,
     "metadata": {},
     "output_type": "execute_result"
    }
   ],
   "source": [
    "datasets = []\n",
    "with open(\"./data/processed_wiki_ko.txt\", 'r') as f:\n",
    "    for line in f.readlines():\n",
    "        datasets.append(line.strip())\n",
    "\n",
    "len(datasets)"
   ]
  },
  {
   "cell_type": "code",
   "execution_count": 4,
   "metadata": {},
   "outputs": [
    {
     "data": {
      "text/html": [
       "<div>\n",
       "<style scoped>\n",
       "    .dataframe tbody tr th:only-of-type {\n",
       "        vertical-align: middle;\n",
       "    }\n",
       "\n",
       "    .dataframe tbody tr th {\n",
       "        vertical-align: top;\n",
       "    }\n",
       "\n",
       "    .dataframe thead th {\n",
       "        text-align: right;\n",
       "    }\n",
       "</style>\n",
       "<table border=\"1\" class=\"dataframe\">\n",
       "  <thead>\n",
       "    <tr style=\"text-align: right;\">\n",
       "      <th></th>\n",
       "      <th>docs</th>\n",
       "    </tr>\n",
       "  </thead>\n",
       "  <tbody>\n",
       "    <tr>\n",
       "      <th>0</th>\n",
       "      <td>제임스 얼 \"지미\" 카터 주니어 (, 1924년 10월 1일 ~ )는 민주당 출신 ...</td>\n",
       "    </tr>\n",
       "    <tr>\n",
       "      <th>1</th>\n",
       "      <td>수학 (數學, Mathematics) 은 양, 구조, 공간, 변화 등의 개념을 다루...</td>\n",
       "    </tr>\n",
       "    <tr>\n",
       "      <th>2</th>\n",
       "      <td>수학에서 상수 란 그 값이 변하지 않는 불변량으로, 변수의 반대말이다. 물리 상수와...</td>\n",
       "    </tr>\n",
       "    <tr>\n",
       "      <th>3</th>\n",
       "      <td>The Reader.jpg|섬네일|250px|장오노레 프라고나르 작 \"책 읽는 소녀...</td>\n",
       "    </tr>\n",
       "    <tr>\n",
       "      <th>4</th>\n",
       "      <td>이 문서는 나라 목록 이며, 전 세계 206개 나라 의 각 현황과 주권 승인 정보를...</td>\n",
       "    </tr>\n",
       "    <tr>\n",
       "      <th>...</th>\n",
       "      <td>...</td>\n",
       "    </tr>\n",
       "    <tr>\n",
       "      <th>311232</th>\n",
       "      <td>하인리히 보그트 (1890년 10월 5일 - 1968년 1월 23일)는 독일의 천문...</td>\n",
       "    </tr>\n",
       "    <tr>\n",
       "      <th>311233</th>\n",
       "      <td>김경호 (1995년 7월 31일 ~ )는 KBO 리그 두산 베어스의 외야수이다. 2...</td>\n",
       "    </tr>\n",
       "    <tr>\n",
       "      <th>311234</th>\n",
       "      <td>1584 년과 1729 년 사이에 출판 된 \"히브리어 라틴 신성한 성경\" 10 판 ...</td>\n",
       "    </tr>\n",
       "    <tr>\n",
       "      <th>311235</th>\n",
       "      <td>김태권 (金兌權)은 대한민국의 만화가 겸 저술가이다. 《김태권의 십자군 이야기》를 ...</td>\n",
       "    </tr>\n",
       "    <tr>\n",
       "      <th>311236</th>\n",
       "      <td>17식 함대함유도탄 은 일본이 2017년에 개발한 함대함 미사일이다. SSM-2 이...</td>\n",
       "    </tr>\n",
       "  </tbody>\n",
       "</table>\n",
       "<p>311237 rows × 1 columns</p>\n",
       "</div>"
      ],
      "text/plain": [
       "                                                     docs\n",
       "0       제임스 얼 \"지미\" 카터 주니어 (, 1924년 10월 1일 ~ )는 민주당 출신 ...\n",
       "1       수학 (數學, Mathematics) 은 양, 구조, 공간, 변화 등의 개념을 다루...\n",
       "2       수학에서 상수 란 그 값이 변하지 않는 불변량으로, 변수의 반대말이다. 물리 상수와...\n",
       "3       The Reader.jpg|섬네일|250px|장오노레 프라고나르 작 \"책 읽는 소녀...\n",
       "4       이 문서는 나라 목록 이며, 전 세계 206개 나라 의 각 현황과 주권 승인 정보를...\n",
       "...                                                   ...\n",
       "311232  하인리히 보그트 (1890년 10월 5일 - 1968년 1월 23일)는 독일의 천문...\n",
       "311233  김경호 (1995년 7월 31일 ~ )는 KBO 리그 두산 베어스의 외야수이다. 2...\n",
       "311234  1584 년과 1729 년 사이에 출판 된 \"히브리어 라틴 신성한 성경\" 10 판 ...\n",
       "311235  김태권 (金兌權)은 대한민국의 만화가 겸 저술가이다. 《김태권의 십자군 이야기》를 ...\n",
       "311236  17식 함대함유도탄 은 일본이 2017년에 개발한 함대함 미사일이다. SSM-2 이...\n",
       "\n",
       "[311237 rows x 1 columns]"
      ]
     },
     "execution_count": 4,
     "metadata": {},
     "output_type": "execute_result"
    }
   ],
   "source": [
    "df = pd.DataFrame(datasets, columns=[\"docs\"])\n",
    "df"
   ]
  },
  {
   "cell_type": "code",
   "execution_count": 7,
   "metadata": {},
   "outputs": [
    {
     "name": "stdout",
     "output_type": "stream",
     "text": [
      "311237\n",
      "280113\n",
      "31124\n"
     ]
    }
   ],
   "source": [
    "train = df.sample(frac=0.9, random_state=1004)\n",
    "val = df.drop(train.index)\n",
    "print(len(train) + len(val))\n",
    "print(len(train))\n",
    "print(len(val))"
   ]
  },
  {
   "cell_type": "code",
   "execution_count": 11,
   "metadata": {},
   "outputs": [],
   "source": [
    "train.to_csv(\"./data/sample/train.txt\", index=False, header=None)\n",
    "val.to_csv(\"./data/sample/val.txt\", index=False, header=None)"
   ]
  },
  {
   "cell_type": "code",
   "execution_count": null,
   "metadata": {},
   "outputs": [],
   "source": []
  }
 ],
 "metadata": {
  "kernelspec": {
   "display_name": "Python 3.8.15 ('study')",
   "language": "python",
   "name": "python3"
  },
  "language_info": {
   "codemirror_mode": {
    "name": "ipython",
    "version": 3
   },
   "file_extension": ".py",
   "mimetype": "text/x-python",
   "name": "python",
   "nbconvert_exporter": "python",
   "pygments_lexer": "ipython3",
   "version": "3.8.15"
  },
  "orig_nbformat": 4,
  "vscode": {
   "interpreter": {
    "hash": "5505d05ceda49dc504182582297c3c948daaaa09c5b6c6e672bebc3df7629cc5"
   }
  }
 },
 "nbformat": 4,
 "nbformat_minor": 2
}
